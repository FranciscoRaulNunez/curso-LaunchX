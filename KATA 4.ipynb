{
 "cells": [
  {
   "cell_type": "code",
   "execution_count": null,
   "metadata": {},
   "outputs": [],
   "source": []
  },
  {
   "cell_type": "markdown",
   "metadata": {},
   "source": [
    "# Transformar cadenas"
   ]
  },
  {
   "cell_type": "code",
   "execution_count": 14,
   "metadata": {},
   "outputs": [
    {
     "name": "stdout",
     "output_type": "stream",
     "text": [
      "['Interesting facts about the Moon', \" The Moon is Earth's only satellite\", ' There are several interesting facts about the Moon and how it affects life here on Earth', ' \\nOn average, the Moon moves 4cm away from the Earth every year', ' This yearly drift is not significant enough to cause immediate effects on Earth', ' The highest', \"split('\", \"')\\ntexto\"]\n"
     ]
    }
   ],
   "source": [
    "texto = \"\"\"Interesting facts about the Moon. The Moon is Earth's only satellite. There are several interesting facts about the Moon and how it affects life here on Earth. \n",
    "On average, the Moon moves 4cm away from the Earth every year. This yearly drift is not significant enough to cause immediate effects on Earth. The highest.split('.')\n",
    "texto\"\"\".split('.')\n",
    "palabrascl = \"average\", \"temperature\", \"distance\"\n",
    "for sentence in texto:\n",
    "    for palabrascl in palabrascl:\n",
    "        if palabrascl in sentence:\n",
    "            print(sentence)\n",
    "            break\n",
    "for sentence in texto:\n",
    "    for palabrascl in palabrascl:\n",
    "        if palabrascl in sentence:\n",
    "            print(sentence.replace('c','celsius'))\n",
    "            break\n",
    "        "
   ]
  },
  {
   "cell_type": "markdown",
   "metadata": {},
   "source": [
    "# formatear cadenas"
   ]
  },
  {
   "cell_type": "code",
   "execution_count": 15,
   "metadata": {},
   "outputs": [],
   "source": [
    "plan = 'Marte '\n",
    "grav  = 0.00143\n",
    "nomb = 'Ganímedes'\n",
    "title = f'datos de gravedad sobre {nomb}'\n",
    "sucesos = f\"\"\"{'-'*80} \n",
    "Nombre del planeta: {planeta} , Gravedad en {nomb}: {grav * 1000} m/s2 \"\"\"\n",
    "template = f\"\"\"{title.title()} \n",
    "{sucesos} \n",
    "\"\"\" \n",
    "print(sucesos)\n"
   ]
  },
  {
   "cell_type": "markdown",
   "metadata": {},
   "source": []
  }
 ],
 "metadata": {
  "interpreter": {
   "hash": "e1da4f6a21d9e467df2f4648e28478b09d104590381eded829414c6a448d9d21"
  },
  "kernelspec": {
   "display_name": "Python 3.10.2 64-bit",
   "language": "python",
   "name": "python3"
  },
  "language_info": {
   "codemirror_mode": {
    "name": "ipython",
    "version": 3
   },
   "file_extension": ".py",
   "mimetype": "text/x-python",
   "name": "python",
   "nbconvert_exporter": "python",
   "pygments_lexer": "ipython3",
   "version": "3.10.2"
  },
  "orig_nbformat": 4
 },
 "nbformat": 4,
 "nbformat_minor": 2
}
