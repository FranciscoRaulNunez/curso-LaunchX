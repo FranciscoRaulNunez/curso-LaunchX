{
 "cells": [
  {
   "cell_type": "code",
   "execution_count": null,
   "metadata": {},
   "outputs": [],
   "source": []
  },
  {
   "cell_type": "markdown",
   "metadata": {},
   "source": [
    "# ADVERTENCIA DE ASTEROIDE"
   ]
  },
  {
   "cell_type": "code",
   "execution_count": 19,
   "metadata": {},
   "outputs": [
    {
     "name": "stdout",
     "output_type": "stream",
     "text": [
      "peligro una colicion se acerca\n"
     ]
    }
   ],
   "source": [
    "vel_asteroide = 49\n",
    "vel_normal = 25\n",
    "if vel_asteroide > vel_normal:\n",
    "    print(\"peligro una colicion se acerca\")\n",
    "else:\n",
    "    print(\"no hay peligro continua explorando\")\n",
    "\n"
   ]
  },
  {
   "cell_type": "markdown",
   "metadata": {},
   "source": [
    "# ALERTA DE AVISTAMIETO DE UN ASTEROIDE "
   ]
  },
  {
   "cell_type": "code",
   "execution_count": 20,
   "metadata": {},
   "outputs": [
    {
     "name": "stdout",
     "output_type": "stream",
     "text": [
      "no hay un asteroide visible\n"
     ]
    }
   ],
   "source": [
    "vel_luz = 20\n",
    "vel_asteroidee = 19\n",
    "if vel_asteroidee < vel_luz:\n",
    "    print(\"no hay un asteroide visible\")\n",
    "elif vel_luz >= vel_asteroidee:\n",
    "    print(\"mira al cielo y podras observar un asteroide pasar\")\n",
    "else:\n",
    "  print(\"fallo en el sistema\")"
   ]
  },
  {
   "cell_type": "code",
   "execution_count": 21,
   "metadata": {},
   "outputs": [
    {
     "name": "stdout",
     "output_type": "stream",
     "text": [
      "peligro de colicion\n"
     ]
    }
   ],
   "source": [
    "tamano_aster = 25\n",
    "vel_aster = 49\n",
    "if tamano_aster >=25 and vel_aster >25:\n",
    "    print(\"peligro de colicion\")\n",
    "elif vel_aster >= 20:\n",
    "    print(\"hay un astheroide iluminando su trayectoria\")\n",
    "elif tamano_aster < 25:\n",
    "    print(\"no hay peligro\")\n",
    "else:\n",
    "    print(\"error del sitema\")"
   ]
  }
 ],
 "metadata": {
  "interpreter": {
   "hash": "e1da4f6a21d9e467df2f4648e28478b09d104590381eded829414c6a448d9d21"
  },
  "kernelspec": {
   "display_name": "Python 3.10.2 64-bit",
   "language": "python",
   "name": "python3"
  },
  "language_info": {
   "codemirror_mode": {
    "name": "ipython",
    "version": 3
   },
   "file_extension": ".py",
   "mimetype": "text/x-python",
   "name": "python",
   "nbconvert_exporter": "python",
   "pygments_lexer": "ipython3",
   "version": "3.10.2"
  },
  "orig_nbformat": 4
 },
 "nbformat": 4,
 "nbformat_minor": 2
}
