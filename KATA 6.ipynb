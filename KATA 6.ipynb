{
 "cells": [
  {
   "cell_type": "markdown",
   "metadata": {},
   "source": [
    "# lista de planetas"
   ]
  },
  {
   "cell_type": "code",
   "execution_count": 10,
   "metadata": {},
   "outputs": [
    {
     "name": "stdout",
     "output_type": "stream",
     "text": [
      "planetas: ['Mercurio', 'Venus', 'Tierra', 'Marte', 'Jupiter', 'Saturno', 'Urano', 'Neptuno', 'Pluton']\n",
      "el numero total de planetas es: 9\n",
      "el ultimo planeta es:  Pluton\n"
     ]
    }
   ],
   "source": [
    "planetas = ['Mercurio','Venus','Tierra','Marte','Jupiter','Saturno','Urano','Neptuno']\n",
    "planetas.append('Pluton')\n",
    "num_plan = len(planetas)\n",
    "acces_plan = [7]\n",
    "print(f\"planetas: {planetas}\")\n",
    "print(f\"el numero total de planetas es: {num_plan}\")\n",
    "print(\"el ultimo planeta es: \" , planetas[8])"
   ]
  },
  {
   "cell_type": "markdown",
   "metadata": {},
   "source": [
    "# trabajando con los datps de una lista\n"
   ]
  },
  {
   "cell_type": "code",
   "execution_count": 11,
   "metadata": {},
   "outputs": [
    {
     "name": "stdout",
     "output_type": "stream",
     "text": [
      "estos son los planetas cercanos: Marte\n",
      "['Mercurio', 'Venus', 'Tierra']\n",
      "estos son los planetas lejanos: Marte\n",
      "['Jupiter', 'Saturno', 'Neptuno']\n"
     ]
    }
   ],
   "source": [
    "pla = ['Mercurio','Venus','Tierra','Marte','Jupiter','Saturno','Neptuno']\n",
    "p7 = input(\"digite un planeta empezando por la primera letra mayuscula \")\n",
    "idx = pla.index(p7)\n",
    "print(f\"estos son los planetas cercanos: {p7}\")\n",
    "print(pla[0:idx])\n",
    "print(f\"estos son los planetas lejanos: {p7}\" )\n",
    "print(pla[idx + 1:])"
   ]
  }
 ],
 "metadata": {
  "interpreter": {
   "hash": "e1da4f6a21d9e467df2f4648e28478b09d104590381eded829414c6a448d9d21"
  },
  "kernelspec": {
   "display_name": "Python 3.10.2 64-bit",
   "language": "python",
   "name": "python3"
  },
  "language_info": {
   "codemirror_mode": {
    "name": "ipython",
    "version": 3
   },
   "file_extension": ".py",
   "mimetype": "text/x-python",
   "name": "python",
   "nbconvert_exporter": "python",
   "pygments_lexer": "ipython3",
   "version": "3.10.2"
  },
  "orig_nbformat": 4
 },
 "nbformat": 4,
 "nbformat_minor": 2
}
