{
 "cells": [
  {
   "cell_type": "markdown",
   "metadata": {},
   "source": [
    "# FUNCION PARA LEER 3 TANQUES DE COMBUSTIBLES Y MUESTRE EL PROMEDIO"
   ]
  },
  {
   "cell_type": "code",
   "execution_count": null,
   "metadata": {},
   "outputs": [],
   "source": [
    "def reporte(tanque1, tanque2,tanque3):\n",
    "    promedio = (tanque1 + tanque2 + tanque3) / 3\n",
    "    return f\"\"\"reporte:\n",
    "    promedioo: {promedio}%\n",
    "    tanque 1: {tanque1}%\n",
    "    tanque 2: {tanque2}%\n",
    "    tanque 3: {tanque3}% \n",
    "   \"\"\"\n",
    "    print(reporte(80, 70, 85))\n",
    "    def promedio2(values):\n",
    "    total = sum(valores)\n",
    "   numerodetanques = len(valores)\n",
    "    return total / numerodetanques\n",
    "    promedio2([80, 85, 81]) \n",
    "    def reporte(tanque1, tanque2,tanque3):\n",
    "    return f\"\"\"reporte:\n",
    "    promedio total: {promedio2([tanque1, tanque2,tanque3])}%\n",
    "    tanque 1: {tanque1}%\n",
    "    tanque 2: {tanque2}%\n",
    "    tanque 3: {tanque3}% \n",
    "    \"\"\"\n",
    "    print(reporte(88, 76, 70))"
   ]
  },
  {
   "cell_type": "markdown",
   "metadata": {},
   "source": [
    "# FUNCION CON INFORME DE LA MISION"
   ]
  },
  {
   "cell_type": "code",
   "execution_count": null,
   "metadata": {},
   "outputs": [],
   "source": [
    "def report_demision(tiempopre, tiempodevuelo, destino, tanque_externo, tanque_principal):\n",
    "    return f\"\"\"\n",
    "    Mision a {destino}\n",
    "    tiempo de viaje: {tiempopre + tiempodevuelo} minutos\n",
    "    Total fuel left: {tanque_externo + tanque_principal} galones\n",
    "    \"\"\"\n",
    "\n",
    "print(report_demision(14, 51, \"Moon\", 200000, 300000))\n",
    "def report_demision(destino, *minutos, **reserva):\n",
    "    return f\"\"\"\n",
    "      Mision a {destino}\n",
    "     timepo de viaje: {sum(minutos)} minutos\n",
    "     combustible: {sum(reserva.values())}\n",
    "     \"\"\"\n",
    "\n",
    "print(report_demisiot(\"luna\", 10, 15, 51, principal=300000, externo=200000))\n",
    "def report_demision(destino, *minutos, **reserva):\n",
    "    reportepricipal = f\"\"\"\n",
    "     Mision a {destino}\n",
    "     timepo de viaje: {sum(minutos)} minutos\n",
    "     combustible: {sum(reserva.values())}\n",
    "     \"\"\"\n",
    "    for nombredetanque, galones in reserva.items():\n",
    "        main_report += f\"{nombredetanque} tanque --> {galones} galones\\n\"\n",
    "    return reportepricipal\n",
    "\n",
    "print(report_demision(\"luna\", 8, 11, 55,  principal=300000, externo=200000))"
   ]
  }
 ],
 "metadata": {
  "interpreter": {
   "hash": "e1da4f6a21d9e467df2f4648e28478b09d104590381eded829414c6a448d9d21"
  },
  "kernelspec": {
   "display_name": "Python 3.10.2 64-bit",
   "language": "python",
   "name": "python3"
  },
  "language_info": {
   "name": "python",
   "version": "3.10.2"
  },
  "orig_nbformat": 4
 },
 "nbformat": 4,
 "nbformat_minor": 2
}
